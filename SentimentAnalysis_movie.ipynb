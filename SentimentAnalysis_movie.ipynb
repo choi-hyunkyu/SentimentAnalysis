{
  "nbformat": 4,
  "nbformat_minor": 0,
  "metadata": {
    "kernelspec": {
      "display_name": "Python 3",
      "language": "python",
      "name": "python3"
    },
    "language_info": {
      "codemirror_mode": {
        "name": "ipython",
        "version": 3
      },
      "file_extension": ".py",
      "mimetype": "text/x-python",
      "name": "python",
      "nbconvert_exporter": "python",
      "pygments_lexer": "ipython3",
      "version": "3.8.5"
    },
    "colab": {
      "name": "SentimentAnalysis_movie.ipynb",
      "provenance": [],
      "collapsed_sections": []
    },
    "accelerator": "GPU"
  },
  "cells": [
    {
      "cell_type": "code",
      "metadata": {
        "colab": {
          "base_uri": "https://localhost:8080/"
        },
        "id": "t1dmHFwTj7F5",
        "outputId": "bde370c2-dcb9-4f14-ff46-33015a7b7731"
      },
      "source": [
        "!pip install konlpy\n",
        "from konlpy.tag import Komoran, Okt\n",
        "import re\n",
        "import pandas as pd\n",
        "import numpy as np\n",
        "import matplotlib.pyplot as plt\n",
        "import torch\n",
        "import torch.nn as nn\n",
        "import torch.nn.functional as F\n",
        "import torch.utils.data as data"
      ],
      "execution_count": 32,
      "outputs": [
        {
          "output_type": "stream",
          "text": [
            "Requirement already satisfied: konlpy in /usr/local/lib/python3.6/dist-packages (0.5.2)\n",
            "Requirement already satisfied: numpy>=1.6 in /usr/local/lib/python3.6/dist-packages (from konlpy) (1.19.4)\n",
            "Requirement already satisfied: colorama in /usr/local/lib/python3.6/dist-packages (from konlpy) (0.4.4)\n",
            "Requirement already satisfied: beautifulsoup4==4.6.0 in /usr/local/lib/python3.6/dist-packages (from konlpy) (4.6.0)\n",
            "Requirement already satisfied: tweepy>=3.7.0 in /usr/local/lib/python3.6/dist-packages (from konlpy) (3.10.0)\n",
            "Requirement already satisfied: JPype1>=0.7.0 in /usr/local/lib/python3.6/dist-packages (from konlpy) (1.2.1)\n",
            "Requirement already satisfied: lxml>=4.1.0 in /usr/local/lib/python3.6/dist-packages (from konlpy) (4.2.6)\n",
            "Requirement already satisfied: requests-oauthlib>=0.7.0 in /usr/local/lib/python3.6/dist-packages (from tweepy>=3.7.0->konlpy) (1.3.0)\n",
            "Requirement already satisfied: requests[socks]>=2.11.1 in /usr/local/lib/python3.6/dist-packages (from tweepy>=3.7.0->konlpy) (2.23.0)\n",
            "Requirement already satisfied: six>=1.10.0 in /usr/local/lib/python3.6/dist-packages (from tweepy>=3.7.0->konlpy) (1.15.0)\n",
            "Requirement already satisfied: typing-extensions; python_version < \"3.8\" in /usr/local/lib/python3.6/dist-packages (from JPype1>=0.7.0->konlpy) (3.7.4.3)\n",
            "Requirement already satisfied: oauthlib>=3.0.0 in /usr/local/lib/python3.6/dist-packages (from requests-oauthlib>=0.7.0->tweepy>=3.7.0->konlpy) (3.1.0)\n",
            "Requirement already satisfied: certifi>=2017.4.17 in /usr/local/lib/python3.6/dist-packages (from requests[socks]>=2.11.1->tweepy>=3.7.0->konlpy) (2020.12.5)\n",
            "Requirement already satisfied: chardet<4,>=3.0.2 in /usr/local/lib/python3.6/dist-packages (from requests[socks]>=2.11.1->tweepy>=3.7.0->konlpy) (3.0.4)\n",
            "Requirement already satisfied: idna<3,>=2.5 in /usr/local/lib/python3.6/dist-packages (from requests[socks]>=2.11.1->tweepy>=3.7.0->konlpy) (2.10)\n",
            "Requirement already satisfied: urllib3!=1.25.0,!=1.25.1,<1.26,>=1.21.1 in /usr/local/lib/python3.6/dist-packages (from requests[socks]>=2.11.1->tweepy>=3.7.0->konlpy) (1.24.3)\n",
            "Requirement already satisfied: PySocks!=1.5.7,>=1.5.6; extra == \"socks\" in /usr/local/lib/python3.6/dist-packages (from requests[socks]>=2.11.1->tweepy>=3.7.0->konlpy) (1.7.1)\n"
          ],
          "name": "stdout"
        }
      ]
    },
    {
      "cell_type": "code",
      "metadata": {
        "scrolled": true,
        "colab": {
          "base_uri": "https://localhost:8080/"
        },
        "id": "0UL92rXDj7F6",
        "outputId": "9c3de1f8-2bd6-4154-9c6e-5bd4a00093c3"
      },
      "source": [
        "%matplotlib inline\n",
        "device = 'cuda' if torch.cuda.is_available() else 'cpu'\n",
        "torch.manual_seed(515)"
      ],
      "execution_count": 33,
      "outputs": [
        {
          "output_type": "execute_result",
          "data": {
            "text/plain": [
              "<torch._C.Generator at 0x7f4edd514888>"
            ]
          },
          "metadata": {
            "tags": []
          },
          "execution_count": 33
        }
      ]
    },
    {
      "cell_type": "code",
      "metadata": {
        "colab": {
          "base_uri": "https://localhost:8080/"
        },
        "id": "X2Z_pjQNGlYf",
        "outputId": "9d403a8e-b298-47ff-de54-44580ca8634e"
      },
      "source": [
        "print(device)"
      ],
      "execution_count": 34,
      "outputs": [
        {
          "output_type": "stream",
          "text": [
            "cuda\n"
          ],
          "name": "stdout"
        }
      ]
    },
    {
      "cell_type": "code",
      "metadata": {
        "colab": {
          "base_uri": "https://localhost:8080/"
        },
        "id": "fIdEVAl4j7F7",
        "outputId": "ea365ca5-3c54-4fc6-a44d-acf858767dd2"
      },
      "source": [
        "!git clone https://github.com/choi-hyunkyu/data.git\n",
        "#tokenizer = Komoran()\n",
        "tokenizer = Okt()\n",
        "original_data_df = pd.read_csv('./data/data/movie_rating_data.csv')"
      ],
      "execution_count": 35,
      "outputs": [
        {
          "output_type": "stream",
          "text": [
            "fatal: destination path 'data' already exists and is not an empty directory.\n"
          ],
          "name": "stdout"
        }
      ]
    },
    {
      "cell_type": "code",
      "metadata": {
        "colab": {
          "base_uri": "https://localhost:8080/",
          "height": 204
        },
        "id": "ziKKidRvj7F7",
        "outputId": "b0d02f4b-9d1f-4175-cbeb-592b06067699"
      },
      "source": [
        "original_data_df.head()"
      ],
      "execution_count": 36,
      "outputs": [
        {
          "output_type": "execute_result",
          "data": {
            "text/html": [
              "<div>\n",
              "<style scoped>\n",
              "    .dataframe tbody tr th:only-of-type {\n",
              "        vertical-align: middle;\n",
              "    }\n",
              "\n",
              "    .dataframe tbody tr th {\n",
              "        vertical-align: top;\n",
              "    }\n",
              "\n",
              "    .dataframe thead th {\n",
              "        text-align: right;\n",
              "    }\n",
              "</style>\n",
              "<table border=\"1\" class=\"dataframe\">\n",
              "  <thead>\n",
              "    <tr style=\"text-align: right;\">\n",
              "      <th></th>\n",
              "      <th>id</th>\n",
              "      <th>document</th>\n",
              "      <th>label</th>\n",
              "    </tr>\n",
              "  </thead>\n",
              "  <tbody>\n",
              "    <tr>\n",
              "      <th>0</th>\n",
              "      <td>9976970</td>\n",
              "      <td>아 더빙.. 진짜 짜증나네요 목소리</td>\n",
              "      <td>0</td>\n",
              "    </tr>\n",
              "    <tr>\n",
              "      <th>1</th>\n",
              "      <td>3819312</td>\n",
              "      <td>흠...포스터보고 초딩영화줄....오버연기조차 가볍지 않구나</td>\n",
              "      <td>1</td>\n",
              "    </tr>\n",
              "    <tr>\n",
              "      <th>2</th>\n",
              "      <td>10265843</td>\n",
              "      <td>너무재밓었다그래서보는것을추천한다</td>\n",
              "      <td>0</td>\n",
              "    </tr>\n",
              "    <tr>\n",
              "      <th>3</th>\n",
              "      <td>9045019</td>\n",
              "      <td>교도소 이야기구먼 ..솔직히 재미는 없다..평점 조정</td>\n",
              "      <td>0</td>\n",
              "    </tr>\n",
              "    <tr>\n",
              "      <th>4</th>\n",
              "      <td>6483659</td>\n",
              "      <td>사이몬페그의 익살스런 연기가 돋보였던 영화!스파이더맨에서 늙어보이기만 했던 커스틴 ...</td>\n",
              "      <td>1</td>\n",
              "    </tr>\n",
              "  </tbody>\n",
              "</table>\n",
              "</div>"
            ],
            "text/plain": [
              "         id                                           document  label\n",
              "0   9976970                                아 더빙.. 진짜 짜증나네요 목소리      0\n",
              "1   3819312                  흠...포스터보고 초딩영화줄....오버연기조차 가볍지 않구나      1\n",
              "2  10265843                                  너무재밓었다그래서보는것을추천한다      0\n",
              "3   9045019                      교도소 이야기구먼 ..솔직히 재미는 없다..평점 조정      0\n",
              "4   6483659  사이몬페그의 익살스런 연기가 돋보였던 영화!스파이더맨에서 늙어보이기만 했던 커스틴 ...      1"
            ]
          },
          "metadata": {
            "tags": []
          },
          "execution_count": 36
        }
      ]
    },
    {
      "cell_type": "code",
      "metadata": {
        "colab": {
          "base_uri": "https://localhost:8080/"
        },
        "id": "5-N20LoWj7F8",
        "outputId": "15c1e9d7-fb74-474a-d209-8708e0eb8af5"
      },
      "source": [
        "original_data_df.info()"
      ],
      "execution_count": 37,
      "outputs": [
        {
          "output_type": "stream",
          "text": [
            "<class 'pandas.core.frame.DataFrame'>\n",
            "RangeIndex: 200000 entries, 0 to 199999\n",
            "Data columns (total 3 columns):\n",
            " #   Column    Non-Null Count   Dtype \n",
            "---  ------    --------------   ----- \n",
            " 0   id        200000 non-null  int64 \n",
            " 1   document  199992 non-null  object\n",
            " 2   label     200000 non-null  int64 \n",
            "dtypes: int64(2), object(1)\n",
            "memory usage: 4.6+ MB\n"
          ],
          "name": "stdout"
        }
      ]
    },
    {
      "cell_type": "code",
      "metadata": {
        "id": "HDW1XjzGj7F9"
      },
      "source": [
        "input_data = original_data_df.drop(['id'], axis = 1).astype('str')[:20000]"
      ],
      "execution_count": 38,
      "outputs": []
    },
    {
      "cell_type": "code",
      "metadata": {
        "scrolled": true,
        "colab": {
          "base_uri": "https://localhost:8080/",
          "height": 204
        },
        "id": "hBeyr6QCj7F9",
        "outputId": "fc797ac0-ccff-4e69-9a4d-4ad729d09628"
      },
      "source": [
        "input_data.head()"
      ],
      "execution_count": 39,
      "outputs": [
        {
          "output_type": "execute_result",
          "data": {
            "text/html": [
              "<div>\n",
              "<style scoped>\n",
              "    .dataframe tbody tr th:only-of-type {\n",
              "        vertical-align: middle;\n",
              "    }\n",
              "\n",
              "    .dataframe tbody tr th {\n",
              "        vertical-align: top;\n",
              "    }\n",
              "\n",
              "    .dataframe thead th {\n",
              "        text-align: right;\n",
              "    }\n",
              "</style>\n",
              "<table border=\"1\" class=\"dataframe\">\n",
              "  <thead>\n",
              "    <tr style=\"text-align: right;\">\n",
              "      <th></th>\n",
              "      <th>document</th>\n",
              "      <th>label</th>\n",
              "    </tr>\n",
              "  </thead>\n",
              "  <tbody>\n",
              "    <tr>\n",
              "      <th>0</th>\n",
              "      <td>아 더빙.. 진짜 짜증나네요 목소리</td>\n",
              "      <td>0</td>\n",
              "    </tr>\n",
              "    <tr>\n",
              "      <th>1</th>\n",
              "      <td>흠...포스터보고 초딩영화줄....오버연기조차 가볍지 않구나</td>\n",
              "      <td>1</td>\n",
              "    </tr>\n",
              "    <tr>\n",
              "      <th>2</th>\n",
              "      <td>너무재밓었다그래서보는것을추천한다</td>\n",
              "      <td>0</td>\n",
              "    </tr>\n",
              "    <tr>\n",
              "      <th>3</th>\n",
              "      <td>교도소 이야기구먼 ..솔직히 재미는 없다..평점 조정</td>\n",
              "      <td>0</td>\n",
              "    </tr>\n",
              "    <tr>\n",
              "      <th>4</th>\n",
              "      <td>사이몬페그의 익살스런 연기가 돋보였던 영화!스파이더맨에서 늙어보이기만 했던 커스틴 ...</td>\n",
              "      <td>1</td>\n",
              "    </tr>\n",
              "  </tbody>\n",
              "</table>\n",
              "</div>"
            ],
            "text/plain": [
              "                                            document label\n",
              "0                                아 더빙.. 진짜 짜증나네요 목소리     0\n",
              "1                  흠...포스터보고 초딩영화줄....오버연기조차 가볍지 않구나     1\n",
              "2                                  너무재밓었다그래서보는것을추천한다     0\n",
              "3                      교도소 이야기구먼 ..솔직히 재미는 없다..평점 조정     0\n",
              "4  사이몬페그의 익살스런 연기가 돋보였던 영화!스파이더맨에서 늙어보이기만 했던 커스틴 ...     1"
            ]
          },
          "metadata": {
            "tags": []
          },
          "execution_count": 39
        }
      ]
    },
    {
      "cell_type": "code",
      "metadata": {
        "colab": {
          "base_uri": "https://localhost:8080/"
        },
        "id": "_zDqOxaBXNjo",
        "outputId": "d4ab0fd4-7761-4312-e822-dbf484c24e76"
      },
      "source": [
        "input_data.shape"
      ],
      "execution_count": 40,
      "outputs": [
        {
          "output_type": "execute_result",
          "data": {
            "text/plain": [
              "(20000, 2)"
            ]
          },
          "metadata": {
            "tags": []
          },
          "execution_count": 40
        }
      ]
    },
    {
      "cell_type": "code",
      "metadata": {
        "id": "2aG9COpUj7F-"
      },
      "source": [
        "# preprocessing\n",
        "def visualizing_length(text):\n",
        "    max_len = max(len(l) for l in text)\n",
        "    min_len = min(len(l) for l in text)\n",
        "    avg_len = (sum(map(len, text))/len(text))\n",
        "    print('최대 길이 : %d' % max_len)\n",
        "    print('최소 길이 : %d' % min_len)\n",
        "    print('평균 길이 : %f' % avg_len)\n",
        "    plt.hist([len(s) for s in text], bins=50)\n",
        "    plt.xlabel('length of sample')\n",
        "    plt.ylabel('number of sample')\n",
        "    plt.show()\n",
        "    return max_len, min_len, avg_len\n",
        "\n",
        "def vocab(text_df):\n",
        "    out_df = length_normalizing(text_df)\n",
        "    out_df = normalizeString_df(out_df)\n",
        "    out_df = strip_df(out_df)\n",
        "    out_df = empty2nan(out_df)\n",
        "    out_df = deleteNan(out_df)\n",
        "    out_df = shuffle_df(out_df)\n",
        "    label_list = out_df[out_df.keys()[1]].tolist()\n",
        "    text_list = out_df[out_df.keys()[0]].tolist()\n",
        "    token = tokenizing(text_list)\n",
        "    output = uniquewords(token)\n",
        "    words = word2index(output)\n",
        "    words['<PAD>'] = 0\n",
        "    words['<OOV>'] = 1\n",
        "    return token, words, len(words), label_list\n",
        "\n",
        "def word2index(unique_word_list):\n",
        "    return {value: index+2 for index, value in enumerate(unique_word_list)}\n",
        "\n",
        "def uniquewords(word_list):\n",
        "    return list(set([i for value in word_list for i in value]))\n",
        "\n",
        "def tokenizing(text_list):\n",
        "    return [tokenizer.morphs(sentence, stem=True) for sentence in text_list]\n",
        "\n",
        "def shuffle_df(text_df):\n",
        "    return text_df.sample(frac=1).reset_index(drop=True)\n",
        "\n",
        "def deleteNan(text_df):\n",
        "    text_df = text_df.dropna(how = 'any').reset_index(drop=True)\n",
        "    return text_df\n",
        "\n",
        "def empty2nan(text_df):\n",
        "    text_df[text_df.keys()[0]] = text_df[text_df.keys()[0]].replace('', np.nan)\n",
        "    return text_df\n",
        "\n",
        "def strip_df(text_df):\n",
        "    sub_list = [text.strip() for text in text_df[text_df.keys()[0]]]\n",
        "    text_df[text_df.keys()[0]] = sub_list\n",
        "    return text_df.reset_index(drop=True)\n",
        "\n",
        "def normalizeString_df(text_df):\n",
        "    text_list = [normalizeString(sentence) for sentence in text_df[text_df.keys()[0]]]\n",
        "    input_df = pd.DataFrame({text_df.keys()[0]: text_list})\n",
        "    label_df = text_df.drop(text_df.keys()[0], axis = 1)\n",
        "    fixed_df = pd.concat([input_df, label_df], axis = 1)\n",
        "    return fixed_df\n",
        "\n",
        "def normalizeString(s):\n",
        "    hangul = re.compile('[^ ㄱ-ㅣ가-힣 ^☆.!?]+')\n",
        "    result = hangul.sub('', s)\n",
        "    result = re.sub('[-=+,#/\\?:^$.@*\\\"※~&%ㆍ!』\\\\‘|\\(\\)\\[\\]\\<\\>`\\'…》]', '', result)\n",
        "    return result\n",
        "\n",
        "def length_normalizing(text_df):\n",
        "    for i, v in enumerate(text_df[text_df.keys()[0]]):\n",
        "        if len(text_df[text_df.keys()[0]][i]) > 25 or len(text_df[text_df.keys()[0]][i]) < 10:\n",
        "            text_df.drop(index=[i], inplace=True)\n",
        "    return text_df.reset_index(drop=True)"
      ],
      "execution_count": 41,
      "outputs": []
    },
    {
      "cell_type": "code",
      "metadata": {
        "id": "FwWfCmNdj7F-"
      },
      "source": [
        "# utils\n",
        "def train(model, criterion, optimizer, nb_epochs, \n",
        "          input_size, train_dataloader, validation_dataloader):\n",
        "    \n",
        "    # Train loop\n",
        "    trn_loss_list = []\n",
        "    val_loss_list = []\n",
        "    for epoch in range(nb_epochs):\n",
        "\n",
        "        # Train\n",
        "        trn_loss = 0.0\n",
        "        for trn_batch, train_samples in enumerate(train_dataloader):\n",
        "\n",
        "            # train data setting\n",
        "            x_train, y_train = train_samples\n",
        "            x_train = x_train.unsqueeze(0).to(device)\n",
        "            y_train = y_train.view(-1).long().to(device)\n",
        "\n",
        "            # train\n",
        "            model.train()\n",
        "            hypothesis = model(x_train).view(-1, hidden_size)\n",
        "            optimizer.zero_grad()\n",
        "            train_loss = criterion(hypothesis, y_train)\n",
        "            train_loss.backward()\n",
        "            nn.utils.clip_grad_norm_(model.parameters(), max_norm)\n",
        "            optimizer.step()\n",
        "\n",
        "            # train loss\n",
        "            trn_loss += train_loss.item() / len(train_dataloader)\n",
        "        trn_loss_list.append(trn_loss)\n",
        "\n",
        "        # Evaluation\n",
        "        with torch.no_grad():\n",
        "            val_loss = 0.0\n",
        "            for val_batch, validation_samples in enumerate(validation_dataloader):\n",
        "\n",
        "                # validatoin data setting\n",
        "                x_validation, y_validation = validation_samples\n",
        "                x_validation = x_validation.unsqueeze(0).to(device)\n",
        "                y_validation = y_validation.view(-1).long().to(device)\n",
        "\n",
        "                # evaluation\n",
        "                model.eval()\n",
        "                prediction = model(x_validation).view(-1, hidden_size)\n",
        "                validation_loss = criterion(prediction, y_validation)\n",
        "\n",
        "                # validation loss\n",
        "                val_loss += validation_loss.item() / len(validation_dataloader)\n",
        "            val_loss_list.append(val_loss)\n",
        "\n",
        "        print(\"Epoch: {:3d} | Train Loss: {:.6f} | Val Loss: {:.6f}\".format(epoch + 1, trn_loss, val_loss))\n",
        "    #torch.save(model, './data/temperature_model.pt')\n",
        "    return trn_loss_list, val_loss_list\n",
        "\n",
        "def checkdata(dataloader):\n",
        "    for index, value in enumerate(dataloader):\n",
        "        while index < 6:\n",
        "            x, y = value\n",
        "            print(\"{} Batch\".format(index))\n",
        "            print(\"Input: {}\".format(x.shape))\n",
        "            print(\"Target: {}\".format(y.shape))\n",
        "            break\n",
        "\n",
        "def checkfunction(dataloader, epoch):\n",
        "    for batch, value in enumerate(dataloader):\n",
        "      x_, y_ = value\n",
        "      print(batch)\n",
        "      x_ = x_.unsqueeze(0).to(device)\n",
        "      print(x_.size())\n",
        "      hypothesis = model(x_).view(-1, hidden_size)\n",
        "      print(hypothesis.size())\n",
        "      y_ = y_.view(-1).long().to(device)\n",
        "      print(y_.size())\n",
        "      loss = criterion(hypothesis, y_)\n",
        "      print(loss)\n",
        "      print()\n",
        "      if batch == epoch:\n",
        "        break\n",
        "\n",
        "def SplitData(encoded_ip, label):\n",
        "    total_size = len(encoded_ip)\n",
        "\n",
        "    train_input_data = encoded_ip[0:int(total_size * 0.7)]\n",
        "    train_target_data = label[0:int(total_size * 0.7)]\n",
        "\n",
        "    validation_input_data = encoded_ip[int(total_size * 0.7):]\n",
        "    validation_target_data = label[int(total_size * 0.7):]\n",
        "    \n",
        "    return (train_input_data, \n",
        "            train_target_data, \n",
        "            validation_input_data, \n",
        "            validation_target_data)\n",
        "\n",
        "def MakeDataset(input_data, target_data):\n",
        "    dataset_size = len(input_data)\n",
        "    input_ts = torch.FloatTensor(np.array(input_data))\n",
        "    target_ts = torch.FloatTensor(np.array(target_data).astype('float64')).view(-1, 1)\n",
        "    dataset = data.TensorDataset(input_ts, target_ts)\n",
        "    return dataset, dataset_size\n",
        "\n",
        "def MakeDataLoader(dataset, batch_size):\n",
        "    return data.DataLoader(dataset, batch_size = batch_size, shuffle = True, drop_last = True)\n",
        "\n",
        "def integerEncoding(tokenized_data, vocab):\n",
        "    encoded = []\n",
        "    for line in tokenized_data:\n",
        "        temp = []\n",
        "        for w in line:\n",
        "            try:\n",
        "                temp.append(vocab[w])\n",
        "            except KeyError:\n",
        "                temp.append(vocab['<OOV>'])\n",
        "        encoded.append(temp)\n",
        "    return encoded\n",
        "    \n",
        "def padding(encoded, vocab, max_length):\n",
        "    for line in encoded:\n",
        "        if len(line) < max_length:\n",
        "            line += [vocab['<PAD>']] * (max_length - len(line))"
      ],
      "execution_count": 42,
      "outputs": []
    },
    {
      "cell_type": "code",
      "metadata": {
        "id": "xr93JtZd9K-M"
      },
      "source": [
        "# model\r\n",
        "class BILSTM(nn.Module):\r\n",
        "    def __init__(self, input_size, batch_size, hidden_size, num_layers, vocab_size, embedding_dim, dropout_p = 0.2):\r\n",
        "        super(BILSTM, self).__init__()\r\n",
        "        \r\n",
        "        self.input_size = input_size\r\n",
        "        self.batch_size = batch_size\r\n",
        "        self.hidden_size = hidden_size\r\n",
        "        self.num_layers = num_layers\r\n",
        "        self.vocab_size = vocab_size\r\n",
        "        self.embedding_dim = embedding_dim\r\n",
        "        \r\n",
        "        self.embedding = nn.Embedding(self.vocab_size, self.embedding_dim)\r\n",
        "        self.lstm = nn.LSTM(\r\n",
        "            input_size = self.input_size,\r\n",
        "            hidden_size = self.hidden_size,\r\n",
        "            num_layers = self.num_layers,\r\n",
        "            dropout = 0.3,\r\n",
        "            #batch_first = True,\r\n",
        "            bidirectional = True)\r\n",
        "        self.fc = nn.Linear(\r\n",
        "            in_features = self.hidden_size * 2, \r\n",
        "            out_features = self.hidden_size, \r\n",
        "            bias = True)\r\n",
        "        nn.init.xavier_uniform_(self.fc.weight)\r\n",
        "        \r\n",
        "    def forward(self, x):\r\n",
        "        # init hidden and cell state\r\n",
        "        h_0 = torch.zeros(self.num_layers * 2, self.batch_size, self.hidden_size).to(device)\r\n",
        "        c_0 = torch.zeros(self.num_layers * 2, self.batch_size, self.hidden_size).to(device)\r\n",
        "        # forward pass\r\n",
        "        out, _ = self.lstm(x, (h_0, c_0))\r\n",
        "        out = self.fc(out)        \r\n",
        "        return out"
      ],
      "execution_count": 43,
      "outputs": []
    },
    {
      "cell_type": "code",
      "metadata": {
        "colab": {
          "base_uri": "https://localhost:8080/",
          "height": 333
        },
        "id": "aYi_pysorCy9",
        "outputId": "0051e30d-1c65-4497-de4d-ce62f5141178"
      },
      "source": [
        "_, _, average_length = visualizing_length(input_data['document'].astype('str').tolist())"
      ],
      "execution_count": 44,
      "outputs": [
        {
          "output_type": "stream",
          "text": [
            "최대 길이 : 144\n",
            "최소 길이 : 1\n",
            "평균 길이 : 35.368750\n"
          ],
          "name": "stdout"
        },
        {
          "output_type": "display_data",
          "data": {
            "image/png": "[encoded data removed]",
            "text/plain": [
              "<Figure size 432x288 with 1 Axes>"
            ]
          },
          "metadata": {
            "tags": [],
            "needs_background": "light"
          }
        }
      ]
    },
    {
      "cell_type": "code",
      "metadata": {
        "id": "F2Uf-mu4pqfM"
      },
      "source": [
        "max_length_ip = int(round(average_length))\r\n",
        "batch_size = 32\r\n",
        "input_size = max_length_ip\r\n",
        "num_layers = 2\r\n",
        "embedding_dim = 64\r\n",
        "hidden_size = 128\r\n",
        "learning_rate = 1e-5\r\n",
        "max_norm = 1 # gradient clipping\r\n",
        "nb_epochs = 100"
      ],
      "execution_count": 45,
      "outputs": []
    },
    {
      "cell_type": "code",
      "metadata": {
        "id": "354nSvaMj7F_"
      },
      "source": [
        "tokenized_ip, words_ip, num_vocab, label = vocab(input_data)\n",
        "encoded_ip = integerEncoding(tokenized_ip, words_ip)"
      ],
      "execution_count": 46,
      "outputs": []
    },
    {
      "cell_type": "code",
      "metadata": {
        "colab": {
          "base_uri": "https://localhost:8080/",
          "height": 333
        },
        "id": "h0NZDD5mwYNk",
        "outputId": "18f48f4a-8701-4aa0-f231-d16cbc988b86"
      },
      "source": [
        "_, _, _ = visualizing_length([' '.join(lst) for lst in tokenized_ip])"
      ],
      "execution_count": 47,
      "outputs": [
        {
          "output_type": "stream",
          "text": [
            "최대 길이 : 38\n",
            "최소 길이 : 1\n",
            "평균 길이 : 17.605709\n"
          ],
          "name": "stdout"
        },
        {
          "output_type": "display_data",
          "data": {
            "image/png": "[encoded data removed]",
            "text/plain": [
              "<Figure size 432x288 with 1 Axes>"
            ]
          },
          "metadata": {
            "tags": [],
            "needs_background": "light"
          }
        }
      ]
    },
    {
      "cell_type": "code",
      "metadata": {
        "id": "VY3VNEBgwmi1"
      },
      "source": [
        "padding(encoded_ip, words_ip, max_length_ip)"
      ],
      "execution_count": 48,
      "outputs": []
    },
    {
      "cell_type": "code",
      "metadata": {
        "colab": {
          "base_uri": "https://localhost:8080/"
        },
        "id": "mv4YEYCIj7F_",
        "outputId": "fb829b12-0967-4d88-cc1c-592f892534c6"
      },
      "source": [
        "print(\"vocab length:\", num_vocab)\n",
        "print(tokenized_ip[:3])\n",
        "print([' '.join(lst) for lst in tokenized_ip][:3])\n",
        "print(label[:3])\n",
        "print(encoded_ip[:3])"
      ],
      "execution_count": 49,
      "outputs": [
        {
          "output_type": "stream",
          "text": [
            "vocab length: 6899\n",
            "[['구태의연하다', '끝', '을', '보다'], ['이', '영화', '왜', '출시', '안되다', 'ㅜㅠ'], ['정말', '소름끼치다', '다시', '방영', '해주다', '좋다']]\n",
            "['구태의연하다 끝 을 보다', '이 영화 왜 출시 안되다 ㅜㅠ', '정말 소름끼치다 다시 방영 해주다 좋다']\n",
            "['0', '1', '1']\n",
            "[[6719, 4901, 1887, 4491, 0, 0, 0, 0, 0, 0, 0, 0, 0, 0, 0, 0, 0, 0, 0, 0, 0, 0, 0, 0, 0, 0, 0, 0, 0, 0, 0, 0, 0, 0, 0], [57, 818, 4637, 4376, 190, 609, 0, 0, 0, 0, 0, 0, 0, 0, 0, 0, 0, 0, 0, 0, 0, 0, 0, 0, 0, 0, 0, 0, 0, 0, 0, 0, 0, 0, 0], [6074, 38, 5556, 1726, 5851, 4475, 0, 0, 0, 0, 0, 0, 0, 0, 0, 0, 0, 0, 0, 0, 0, 0, 0, 0, 0, 0, 0, 0, 0, 0, 0, 0, 0, 0, 0]]\n"
          ],
          "name": "stdout"
        }
      ]
    },
    {
      "cell_type": "code",
      "metadata": {
        "id": "luwiXU4qj7GA"
      },
      "source": [
        "trn_input, trn_target, val_input, val_target = SplitData(encoded_ip, label)"
      ],
      "execution_count": 50,
      "outputs": []
    },
    {
      "cell_type": "code",
      "metadata": {
        "id": "OZyKMv6sj7GB"
      },
      "source": [
        "trn_dataset, trn_dataset_size = MakeDataset(trn_input, trn_target)\n",
        "trn_dataloader = MakeDataLoader(trn_dataset, batch_size)\n",
        "\n",
        "val_dataset, val_dataset_size = MakeDataset(val_input, val_target)\n",
        "val_dataloader = MakeDataLoader(val_dataset, batch_size)"
      ],
      "execution_count": 51,
      "outputs": []
    },
    {
      "cell_type": "code",
      "metadata": {
        "colab": {
          "base_uri": "https://localhost:8080/"
        },
        "id": "ivnLP6J0j7GB",
        "outputId": "34f43c01-eb58-4a9f-ab65-35249c3d7aff"
      },
      "source": [
        "print(checkdata(trn_dataloader))\r\n",
        "print(checkdata(val_dataloader))"
      ],
      "execution_count": 52,
      "outputs": [
        {
          "output_type": "stream",
          "text": [
            "0 Batch\n",
            "Input: torch.Size([32, 35])\n",
            "Target: torch.Size([32, 1])\n",
            "1 Batch\n",
            "Input: torch.Size([32, 35])\n",
            "Target: torch.Size([32, 1])\n",
            "2 Batch\n",
            "Input: torch.Size([32, 35])\n",
            "Target: torch.Size([32, 1])\n",
            "3 Batch\n",
            "Input: torch.Size([32, 35])\n",
            "Target: torch.Size([32, 1])\n",
            "4 Batch\n",
            "Input: torch.Size([32, 35])\n",
            "Target: torch.Size([32, 1])\n",
            "5 Batch\n",
            "Input: torch.Size([32, 35])\n",
            "Target: torch.Size([32, 1])\n",
            "None\n",
            "0 Batch\n",
            "Input: torch.Size([32, 35])\n",
            "Target: torch.Size([32, 1])\n",
            "1 Batch\n",
            "Input: torch.Size([32, 35])\n",
            "Target: torch.Size([32, 1])\n",
            "2 Batch\n",
            "Input: torch.Size([32, 35])\n",
            "Target: torch.Size([32, 1])\n",
            "3 Batch\n",
            "Input: torch.Size([32, 35])\n",
            "Target: torch.Size([32, 1])\n",
            "4 Batch\n",
            "Input: torch.Size([32, 35])\n",
            "Target: torch.Size([32, 1])\n",
            "5 Batch\n",
            "Input: torch.Size([32, 35])\n",
            "Target: torch.Size([32, 1])\n",
            "None\n"
          ],
          "name": "stdout"
        }
      ]
    },
    {
      "cell_type": "code",
      "metadata": {
        "id": "ekLZQnYMj7GB"
      },
      "source": [
        "model = BILSTM(input_size, batch_size, hidden_size, num_layers, num_vocab, embedding_dim).to(device)\n",
        "criterion = nn.CrossEntropyLoss().to(device)\n",
        "optimizer = torch.optim.Adam(model.parameters(), lr = learning_rate)"
      ],
      "execution_count": 53,
      "outputs": []
    },
    {
      "cell_type": "code",
      "metadata": {
        "scrolled": true,
        "colab": {
          "base_uri": "https://localhost:8080/"
        },
        "id": "aLtQ0GKej7GB",
        "outputId": "f8fc483f-fc79-4142-f8c8-214c31e1c3a4"
      },
      "source": [
        "print(model)\n",
        "print(criterion)\n",
        "print(optimizer)\n",
        "print(checkfunction(trn_dataloader, epoch = 5))"
      ],
      "execution_count": 54,
      "outputs": [
        {
          "output_type": "stream",
          "text": [
            "BILSTM(\n",
            "  (embedding): Embedding(6899, 64)\n",
            "  (lstm): LSTM(35, 128, num_layers=2, dropout=0.3, bidirectional=True)\n",
            "  (fc): Linear(in_features=256, out_features=128, bias=True)\n",
            ")\n",
            "CrossEntropyLoss()\n",
            "Adam (\n",
            "Parameter Group 0\n",
            "    amsgrad: False\n",
            "    betas: (0.9, 0.999)\n",
            "    eps: 1e-08\n",
            "    lr: 1e-05\n",
            "    weight_decay: 0\n",
            ")\n",
            "0\n",
            "torch.Size([1, 32, 35])\n",
            "torch.Size([32, 128])\n",
            "torch.Size([32])\n",
            "tensor(4.8340, device='cuda:0', grad_fn=<NllLossBackward>)\n",
            "\n",
            "1\n",
            "torch.Size([1, 32, 35])\n",
            "torch.Size([32, 128])\n",
            "torch.Size([32])\n",
            "tensor(4.8493, device='cuda:0', grad_fn=<NllLossBackward>)\n",
            "\n",
            "2\n",
            "torch.Size([1, 32, 35])\n",
            "torch.Size([32, 128])\n",
            "torch.Size([32])\n",
            "tensor(4.8829, device='cuda:0', grad_fn=<NllLossBackward>)\n",
            "\n",
            "3\n",
            "torch.Size([1, 32, 35])\n",
            "torch.Size([32, 128])\n",
            "torch.Size([32])\n",
            "tensor(4.8332, device='cuda:0', grad_fn=<NllLossBackward>)\n",
            "\n",
            "4\n",
            "torch.Size([1, 32, 35])\n",
            "torch.Size([32, 128])\n",
            "torch.Size([32])\n",
            "tensor(4.8480, device='cuda:0', grad_fn=<NllLossBackward>)\n",
            "\n",
            "5\n",
            "torch.Size([1, 32, 35])\n",
            "torch.Size([32, 128])\n",
            "torch.Size([32])\n",
            "tensor(4.8560, device='cuda:0', grad_fn=<NllLossBackward>)\n",
            "\n",
            "None\n"
          ],
          "name": "stdout"
        }
      ]
    },
    {
      "cell_type": "code",
      "metadata": {
        "colab": {
          "base_uri": "https://localhost:8080/"
        },
        "id": "op005dhnj7GB",
        "outputId": "ce9f394d-48d0-4498-b672-23b61b9d726b"
      },
      "source": [
        "trn_loss, val_loss = train(model, criterion, optimizer, nb_epochs, \n",
        "                           input_size, trn_dataloader, val_dataloader)"
      ],
      "execution_count": 55,
      "outputs": [
        {
          "output_type": "stream",
          "text": [
            "Epoch:   1 | Train Loss: 4.780750 | Val Loss: 4.703874\n",
            "Epoch:   2 | Train Loss: 4.623768 | Val Loss: 4.533571\n",
            "Epoch:   3 | Train Loss: 4.451238 | Val Loss: 4.339679\n",
            "Epoch:   4 | Train Loss: 4.256584 | Val Loss: 4.133374\n",
            "Epoch:   5 | Train Loss: 4.042545 | Val Loss: 3.895052\n",
            "Epoch:   6 | Train Loss: 3.802809 | Val Loss: 3.638016\n",
            "Epoch:   7 | Train Loss: 3.537462 | Val Loss: 3.343990\n",
            "Epoch:   8 | Train Loss: 3.245475 | Val Loss: 3.034324\n",
            "Epoch:   9 | Train Loss: 2.933924 | Val Loss: 2.705009\n",
            "Epoch:  10 | Train Loss: 2.611085 | Val Loss: 2.363775\n",
            "Epoch:  11 | Train Loss: 2.276235 | Val Loss: 2.036343\n",
            "Epoch:  12 | Train Loss: 1.954357 | Val Loss: 1.727510\n",
            "Epoch:  13 | Train Loss: 1.657402 | Val Loss: 1.450496\n",
            "Epoch:  14 | Train Loss: 1.397068 | Val Loss: 1.234226\n",
            "Epoch:  15 | Train Loss: 1.195589 | Val Loss: 1.066233\n",
            "Epoch:  16 | Train Loss: 1.040915 | Val Loss: 0.949501\n",
            "Epoch:  17 | Train Loss: 0.938320 | Val Loss: 0.868051\n",
            "Epoch:  18 | Train Loss: 0.863638 | Val Loss: 0.816819\n",
            "Epoch:  19 | Train Loss: 0.814604 | Val Loss: 0.781356\n",
            "Epoch:  20 | Train Loss: 0.780428 | Val Loss: 0.757129\n",
            "Epoch:  21 | Train Loss: 0.755651 | Val Loss: 0.741123\n",
            "Epoch:  22 | Train Loss: 0.740380 | Val Loss: 0.730371\n",
            "Epoch:  23 | Train Loss: 0.729876 | Val Loss: 0.723343\n",
            "Epoch:  24 | Train Loss: 0.720783 | Val Loss: 0.717782\n",
            "Epoch:  25 | Train Loss: 0.715927 | Val Loss: 0.713892\n",
            "Epoch:  26 | Train Loss: 0.712681 | Val Loss: 0.710730\n",
            "Epoch:  27 | Train Loss: 0.706765 | Val Loss: 0.708427\n",
            "Epoch:  28 | Train Loss: 0.704915 | Val Loss: 0.706742\n",
            "Epoch:  29 | Train Loss: 0.701673 | Val Loss: 0.705000\n",
            "Epoch:  30 | Train Loss: 0.698679 | Val Loss: 0.703890\n",
            "Epoch:  31 | Train Loss: 0.697457 | Val Loss: 0.702089\n",
            "Epoch:  32 | Train Loss: 0.697020 | Val Loss: 0.701562\n",
            "Epoch:  33 | Train Loss: 0.694656 | Val Loss: 0.701079\n",
            "Epoch:  34 | Train Loss: 0.691805 | Val Loss: 0.700236\n",
            "Epoch:  35 | Train Loss: 0.691841 | Val Loss: 0.699381\n",
            "Epoch:  36 | Train Loss: 0.691166 | Val Loss: 0.698915\n",
            "Epoch:  37 | Train Loss: 0.688156 | Val Loss: 0.698409\n",
            "Epoch:  38 | Train Loss: 0.688541 | Val Loss: 0.698812\n",
            "Epoch:  39 | Train Loss: 0.686703 | Val Loss: 0.697834\n",
            "Epoch:  40 | Train Loss: 0.687433 | Val Loss: 0.697489\n",
            "Epoch:  41 | Train Loss: 0.685263 | Val Loss: 0.697143\n",
            "Epoch:  42 | Train Loss: 0.684600 | Val Loss: 0.697414\n",
            "Epoch:  43 | Train Loss: 0.683535 | Val Loss: 0.696531\n",
            "Epoch:  44 | Train Loss: 0.685236 | Val Loss: 0.697012\n",
            "Epoch:  45 | Train Loss: 0.682185 | Val Loss: 0.697070\n",
            "Epoch:  46 | Train Loss: 0.682314 | Val Loss: 0.696467\n",
            "Epoch:  47 | Train Loss: 0.682168 | Val Loss: 0.696600\n",
            "Epoch:  48 | Train Loss: 0.681918 | Val Loss: 0.696468\n",
            "Epoch:  49 | Train Loss: 0.680765 | Val Loss: 0.696530\n",
            "Epoch:  50 | Train Loss: 0.679360 | Val Loss: 0.696370\n",
            "Epoch:  51 | Train Loss: 0.679141 | Val Loss: 0.696473\n",
            "Epoch:  52 | Train Loss: 0.678999 | Val Loss: 0.696269\n",
            "Epoch:  53 | Train Loss: 0.678369 | Val Loss: 0.696073\n",
            "Epoch:  54 | Train Loss: 0.678554 | Val Loss: 0.695975\n",
            "Epoch:  55 | Train Loss: 0.676350 | Val Loss: 0.696195\n",
            "Epoch:  56 | Train Loss: 0.677806 | Val Loss: 0.695622\n",
            "Epoch:  57 | Train Loss: 0.675503 | Val Loss: 0.695903\n",
            "Epoch:  58 | Train Loss: 0.676272 | Val Loss: 0.696191\n",
            "Epoch:  59 | Train Loss: 0.674364 | Val Loss: 0.696387\n",
            "Epoch:  60 | Train Loss: 0.673745 | Val Loss: 0.696379\n",
            "Epoch:  61 | Train Loss: 0.674018 | Val Loss: 0.696546\n",
            "Epoch:  62 | Train Loss: 0.674148 | Val Loss: 0.696109\n",
            "Epoch:  63 | Train Loss: 0.674086 | Val Loss: 0.696678\n",
            "Epoch:  64 | Train Loss: 0.674229 | Val Loss: 0.695893\n",
            "Epoch:  65 | Train Loss: 0.672926 | Val Loss: 0.696155\n",
            "Epoch:  66 | Train Loss: 0.671606 | Val Loss: 0.696859\n",
            "Epoch:  67 | Train Loss: 0.671427 | Val Loss: 0.696340\n",
            "Epoch:  68 | Train Loss: 0.671100 | Val Loss: 0.696359\n",
            "Epoch:  69 | Train Loss: 0.670749 | Val Loss: 0.696605\n",
            "Epoch:  70 | Train Loss: 0.671151 | Val Loss: 0.696827\n",
            "Epoch:  71 | Train Loss: 0.670827 | Val Loss: 0.697172\n",
            "Epoch:  72 | Train Loss: 0.669523 | Val Loss: 0.696710\n",
            "Epoch:  73 | Train Loss: 0.667396 | Val Loss: 0.696652\n",
            "Epoch:  74 | Train Loss: 0.670274 | Val Loss: 0.696784\n",
            "Epoch:  75 | Train Loss: 0.670108 | Val Loss: 0.696213\n",
            "Epoch:  76 | Train Loss: 0.668065 | Val Loss: 0.696920\n",
            "Epoch:  77 | Train Loss: 0.669135 | Val Loss: 0.696782\n",
            "Epoch:  78 | Train Loss: 0.668002 | Val Loss: 0.696971\n",
            "Epoch:  79 | Train Loss: 0.666979 | Val Loss: 0.696719\n",
            "Epoch:  80 | Train Loss: 0.664975 | Val Loss: 0.696837\n",
            "Epoch:  81 | Train Loss: 0.666172 | Val Loss: 0.697080\n",
            "Epoch:  82 | Train Loss: 0.666359 | Val Loss: 0.697122\n",
            "Epoch:  83 | Train Loss: 0.664425 | Val Loss: 0.696970\n",
            "Epoch:  84 | Train Loss: 0.664648 | Val Loss: 0.697173\n",
            "Epoch:  85 | Train Loss: 0.665226 | Val Loss: 0.697876\n",
            "Epoch:  86 | Train Loss: 0.661046 | Val Loss: 0.698223\n",
            "Epoch:  87 | Train Loss: 0.661829 | Val Loss: 0.698161\n",
            "Epoch:  88 | Train Loss: 0.663462 | Val Loss: 0.697568\n",
            "Epoch:  89 | Train Loss: 0.663983 | Val Loss: 0.698492\n",
            "Epoch:  90 | Train Loss: 0.661676 | Val Loss: 0.698185\n",
            "Epoch:  91 | Train Loss: 0.661963 | Val Loss: 0.698435\n",
            "Epoch:  92 | Train Loss: 0.661627 | Val Loss: 0.697681\n",
            "Epoch:  93 | Train Loss: 0.660648 | Val Loss: 0.698758\n",
            "Epoch:  94 | Train Loss: 0.661609 | Val Loss: 0.698689\n",
            "Epoch:  95 | Train Loss: 0.660670 | Val Loss: 0.698204\n",
            "Epoch:  96 | Train Loss: 0.659362 | Val Loss: 0.698157\n",
            "Epoch:  97 | Train Loss: 0.660227 | Val Loss: 0.699577\n",
            "Epoch:  98 | Train Loss: 0.658831 | Val Loss: 0.699130\n",
            "Epoch:  99 | Train Loss: 0.659854 | Val Loss: 0.699486\n",
            "Epoch: 100 | Train Loss: 0.657214 | Val Loss: 0.699060\n"
          ],
          "name": "stdout"
        }
      ]
    },
    {
      "cell_type": "code",
      "metadata": {
        "id": "MTwqTemKniED"
      },
      "source": [
        "# 과적합 해결할것\r\n",
        "# vocab json 파일로 저장해서 둘 것\r\n",
        "# 자모 단위로 중복되는 문자열 제거"
      ],
      "execution_count": 56,
      "outputs": []
    }
  ]
}